{
 "cells": [
  {
   "cell_type": "code",
   "execution_count": 67,
   "metadata": {},
   "outputs": [
    {
     "name": "stdout",
     "output_type": "stream",
     "text": [
      "[-5.  -4.5 -4.  -3.5 -3.  -2.5 -2.  -1.5 -1.  -0.5  0.   0.5  1.   1.5\n",
      "  2.   2.5  3.   3.5  4.   4.5  5.   5.5  6.   6.5  7.   7.5  8.   8.5\n",
      "  9.   9.5]\n",
      "[-5.0, -4.5, -4.0, -3.5, -3.0, -2.5, -2.0, -1.5, -1.0, -0.5, 0.0, 0.5, 1.0, 1.5, 2.0, 2.5]\n"
     ]
    }
   ],
   "source": [
    "import numpy as np\n",
    "#number_list=np.random.randint(-5,10,10)\n",
    "number_list=np.arange(-5,10,.5)\n",
    "print(number_list)\n",
    "less_than_zero=list(filter(lambda x: x < 3 , number_list))\n",
    "#type(less_than_zero)\n",
    "print(less_than_zero)"
   ]
  },
  {
   "cell_type": "code",
   "execution_count": 33,
   "metadata": {},
   "outputs": [
    {
     "name": "stdout",
     "output_type": "stream",
     "text": [
      "40\n"
     ]
    }
   ],
   "source": [
    "from functools import reduce\n",
    "product = reduce((lambda x,y: x*y), [1,2,4,5])\n",
    "print(product)"
   ]
  },
  {
   "cell_type": "code",
   "execution_count": 34,
   "metadata": {},
   "outputs": [
    {
     "name": "stdout",
     "output_type": "stream",
     "text": [
      "120\n"
     ]
    }
   ],
   "source": [
    "from functools import reduce\n",
    "product = reduce((lambda x,y: (x)* (y+2)), [1,2,3,4])\n",
    "print(product)"
   ]
  },
  {
   "cell_type": "code",
   "execution_count": 37,
   "metadata": {},
   "outputs": [
    {
     "ename": "IndentationError",
     "evalue": "expected an indented block (<ipython-input-37-cf889adb2a9e>, line 2)",
     "output_type": "error",
     "traceback": [
      "\u001b[1;36m  File \u001b[1;32m\"<ipython-input-37-cf889adb2a9e>\"\u001b[1;36m, line \u001b[1;32m2\u001b[0m\n\u001b[1;33m    if n<=0:\u001b[0m\n\u001b[1;37m     ^\u001b[0m\n\u001b[1;31mIndentationError\u001b[0m\u001b[1;31m:\u001b[0m expected an indented block\n"
     ]
    }
   ],
   "source": [
    "def fibo(n):\n",
    "if n<=0:\n",
    "    print(\"Incorrect Number\")\n",
    "elif n==1:\n",
    "    return 0\n",
    "elif n==2:\n",
    "    return 1\n"
   ]
  },
  {
   "cell_type": "code",
   "execution_count": 40,
   "metadata": {},
   "outputs": [
    {
     "name": "stdout",
     "output_type": "stream",
     "text": [
      "140713067999264\n",
      "140713067999584\n"
     ]
    }
   ],
   "source": [
    "a=10\n",
    "b=20\n",
    "\n",
    "print(id(a))\n",
    "print(id(b))"
   ]
  },
  {
   "cell_type": "code",
   "execution_count": null,
   "metadata": {},
   "outputs": [],
   "source": [
    " "
   ]
  },
  {
   "cell_type": "code",
   "execution_count": 52,
   "metadata": {},
   "outputs": [
    {
     "name": "stdout",
     "output_type": "stream",
     "text": [
      "Enter the number of Fibonaki digits you want-1\n",
      "pass input!\n"
     ]
    }
   ],
   "source": [
    "def fibo(n):\n",
    "    first , second = 0,1\n",
    "    if n<=0:\n",
    "        print(\"pass input!\")\n",
    "    elif n==1:\n",
    "        print(first)\n",
    "    else:\n",
    "        print(first)\n",
    "        print(second)\n",
    "    for x in range(2,n):\n",
    "        sum=first+second\n",
    "        print(sum)\n",
    "        first,second=second,sum\n",
    "n=int(input('Enter the number of Fibonaki digits you want = '))\n",
    "fibo(n)"
   ]
  },
  {
   "cell_type": "code",
   "execution_count": 45,
   "metadata": {},
   "outputs": [
    {
     "name": "stdout",
     "output_type": "stream",
     "text": [
      "3.7\n"
     ]
    }
   ],
   "source": [
    "import sys\n",
    "\n",
    "print(sys.winver)"
   ]
  },
  {
   "cell_type": "code",
   "execution_count": 24,
   "metadata": {},
   "outputs": [
    {
     "name": "stdout",
     "output_type": "stream",
     "text": [
      "False\n"
     ]
    }
   ],
   "source": [
    "import sys\n",
    "\n",
    "print(not sys)"
   ]
  },
  {
   "cell_type": "code",
   "execution_count": null,
   "metadata": {},
   "outputs": [],
   "source": []
  },
  {
   "cell_type": "code",
   "execution_count": null,
   "metadata": {},
   "outputs": [],
   "source": []
  }
 ],
 "metadata": {
  "kernelspec": {
   "display_name": "Python 3",
   "language": "python",
   "name": "python3"
  },
  "language_info": {
   "codemirror_mode": {
    "name": "ipython",
    "version": 3
   },
   "file_extension": ".py",
   "mimetype": "text/x-python",
   "name": "python",
   "nbconvert_exporter": "python",
   "pygments_lexer": "ipython3",
   "version": "3.7.0"
  }
 },
 "nbformat": 4,
 "nbformat_minor": 2
}
