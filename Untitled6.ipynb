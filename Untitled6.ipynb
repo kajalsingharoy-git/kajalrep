{
 "cells": [
  {
   "cell_type": "code",
   "execution_count": null,
   "metadata": {},
   "outputs": [],
   "source": [
    "import pandas as pd\n",
    "import networkx as nx\n",
    "import itertools as it\n",
    "\n",
    "df=pd.read_csv(\"C:/Users/kajal/OneDrive/Desktop/Micro Project/Output Files/Rank_n70.csv\",sep=\",\")\n",
    "\n",
    "df1=pd.read_csv(\"C:/Users/kajal/OneDrive/Desktop/Micro Project/out_n70.csv\",sep=\" \")\n",
    "g = nx.from_pandas_edgelist(df1, 'n', 'm', edge_attr=False)\n",
    "\n",
    "\n",
    "p=len(g.nodes())\n",
    "p =int((p*5)/100) #Calculating 5% of the list, i.e., no. of ranks to select. In this case 3\n",
    "\n",
    "nodes=g.nodes()\n",
    "nodes=list(nodes)\n",
    "nodes.sort() # Create sorted list of nodes in graph\n",
    "\n",
    "dr=df[\"Bw_Rank\"]\n",
    "no=df[\"Nodes\"]\n",
    "drn=dict(zip(dr,no)) #create dict of deg_rank:nodes\n",
    "\n",
    "drlist=[]\n",
    "\n",
    "for i in range(1,p+1):\n",
    "    v=drn.get(i)\n",
    "    drlist.append(v) #create a list of top 3 nodes acc to deg_rank\n",
    "\n",
    "node_spread=drlist #a list to contain nodes that have already visited\n",
    "new_n=[]\n",
    "c=1 #counter to count iterations\n",
    "\n",
    "while len(node_spread)<len(nodes): #to check if all nodes have been visited\n",
    "    for i in drlist:\n",
    "        negb=g.neighbors(i) #get neighbours of nodes visited\n",
    "        for j in negb:\n",
    "            if j not in node_spread:\n",
    "                node_spread.append(j) #append nodes to visited nodes list\n",
    "                new_n.append(j) #newly added nodes in node_spread\n",
    "    print(\"newly added nodes:\", new_n,\"Length\",len(new_n),\"\\n\\n\")\n",
    "    del drlist[:] #empty drlist\n",
    "    for k in new_n:\n",
    "        drlist.append(k) #append the current nodes whose neighbours are to be calculated\n",
    "    c=c+1 #counter increasing\n",
    "\n",
    "nx.draw(g, with_labels=True)\n",
    "print(c)\n",
    "print(\"Nodes Spread\",len(node_spread))\n",
    "print(p)\n",
    "print(g.degree())\n"
   ]
  }
 ],
 "metadata": {
  "kernelspec": {
   "display_name": "Python 3",
   "language": "python",
   "name": "python3"
  },
  "language_info": {
   "codemirror_mode": {
    "name": "ipython",
    "version": 3
   },
   "file_extension": ".py",
   "mimetype": "text/x-python",
   "name": "python",
   "nbconvert_exporter": "python",
   "pygments_lexer": "ipython3",
   "version": "3.7.0"
  }
 },
 "nbformat": 4,
 "nbformat_minor": 2
}
