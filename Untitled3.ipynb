{
 "cells": [
  {
   "cell_type": "code",
   "execution_count": null,
   "metadata": {},
   "outputs": [],
   "source": [
    "import pandas as pd\n",
    "import networkx as nx\n",
    "import itertools as it\n",
    "\n",
    "\n",
    "df=pd.read_csv(\"  C:/Users/kajal/OneDrive/Desktop/Micro Project/s/out_n32.csv\",sep=\" \")\n",
    "g = nx.from_pandas_edgelist(df, 'n', 'm', edge_attr=False)\n",
    "\n",
    "df1=pd.read_csv(\"C:/Users/kajal/OneDrive/Desktop/Micro Project/Output Files/Rank_n32.csv\",sep=\"\\t\")\n",
    "\n",
    "p=len(g.nodes())\n",
    "p =int((p*5)/100) #Calculating 5% of the list, i.e., no. of ranks to select. In this case 3\n",
    "\n",
    "nodes=g.nodes()\n",
    "nodes=list(nodes)\n",
    "nodes.sort() # Create sorted list of nodes in graph\n",
    "\n",
    "dr=df1[\"Deg_Rank\"]\n",
    "no=df1[\"Nodes\"]\n",
    "drn=dict(zip(dr,no)) #create dict of deg_rank:nodes\n",
    "\n",
    "drnlist=[]\n",
    "\n",
    "\n",
    "for i in range(1,p+1):\n",
    "    v=drn.get(i)\n",
    "    drnlist.append(v) #create a list of top 3 nodes acc to deg_rank\n",
    "\n",
    "node_spread=drnlist #a list to contain nodes that have already visited\n",
    "\n",
    "\n",
    "    \n",
    "c=0 #counter to count iterations\n",
    "\n",
    "while len(node_spread)<len(nodes): #to check if all nodes have been visited\n",
    "    for i in drnlist:\n",
    "        negb=g.neighbors(i) #get neighbours of nodes visited\n",
    "    for j in negb:\n",
    "        node_spread.append(j) #append nodes to visited nodes list \n",
    "    del drnlist[:]   #empty drlist\n",
    "    for k in negb:\n",
    "        drnlist.append(k) #append the current nodes whose neighbours are to be calculated\n",
    "    c=c+1 #counter increasing\n",
    "\n",
    "   "
   ]
  },
  {
   "cell_type": "code",
   "execution_count": null,
   "metadata": {},
   "outputs": [],
   "source": []
  },
  {
   "cell_type": "code",
   "execution_count": null,
   "metadata": {},
   "outputs": [],
   "source": []
  }
 ],
 "metadata": {
  "kernelspec": {
   "display_name": "Python 3",
   "language": "python",
   "name": "python3"
  },
  "language_info": {
   "codemirror_mode": {
    "name": "ipython",
    "version": 3
   },
   "file_extension": ".py",
   "mimetype": "text/x-python",
   "name": "python",
   "nbconvert_exporter": "python",
   "pygments_lexer": "ipython3",
   "version": "3.7.0"
  }
 },
 "nbformat": 4,
 "nbformat_minor": 2
}
